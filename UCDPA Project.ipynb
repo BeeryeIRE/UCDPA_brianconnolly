{
 "cells": [
  {
   "cell_type": "code",
   "execution_count": 1,
   "id": "c96293cb",
   "metadata": {},
   "outputs": [],
   "source": [
    "# Importing the necessary packages for this project"
   ]
  },
  {
   "cell_type": "code",
   "execution_count": 2,
   "id": "99b2a1aa",
   "metadata": {},
   "outputs": [],
   "source": [
    "import numpy as np"
   ]
  },
  {
   "cell_type": "code",
   "execution_count": 3,
   "id": "fb95ad63",
   "metadata": {},
   "outputs": [],
   "source": [
    "import pandas as pd"
   ]
  },
  {
   "cell_type": "code",
   "execution_count": 4,
   "id": "d5a20c03",
   "metadata": {},
   "outputs": [],
   "source": [
    "import matplotlib as plt"
   ]
  },
  {
   "cell_type": "code",
   "execution_count": 5,
   "id": "a6d1d1fb",
   "metadata": {},
   "outputs": [],
   "source": [
    "import seaborn as sns"
   ]
  },
  {
   "cell_type": "code",
   "execution_count": 6,
   "id": "572e0ee6",
   "metadata": {},
   "outputs": [],
   "source": [
    "import requests"
   ]
  },
  {
   "cell_type": "code",
   "execution_count": 7,
   "id": "1caa8967",
   "metadata": {},
   "outputs": [],
   "source": [
    "import json"
   ]
  },
  {
   "cell_type": "code",
   "execution_count": 8,
   "id": "73010afa",
   "metadata": {},
   "outputs": [],
   "source": [
    "# Import the relevant dataset\n",
    "# For the scope of this project, I will be limiting data to the modern era (1992-present). Data will be accessed via the NHL's API"
   ]
  },
  {
   "cell_type": "code",
   "execution_count": 16,
   "id": "b66928d9",
   "metadata": {},
   "outputs": [],
   "source": [
    "# The NHL API does not allow a straight output of player IDs. Instead, the player IDs must be derived from the roster info\n",
    "\n",
    "teams_url = 'https://statsapi.web.nhl.com/api/v1/teams' # this is the endpoint for team data within the NHL API\n",
    "teams_resp = requests.get(teams_url) \n",
    "teams_json = teams_resp.json() # turn the response object into JSON"
   ]
  },
  {
   "cell_type": "code",
   "execution_count": 18,
   "id": "41672b8e",
   "metadata": {},
   "outputs": [
    {
     "name": "stdout",
     "output_type": "stream",
     "text": [
      "{'copyright': 'NHL and the NHL Shield are registered trademarks of the National Hockey League. NHL and NHL team marks are the property of the NHL and its teams. © NHL 2022. All Rights Reserved.', 'teams': [{'id': 1, 'name': 'New Jersey Devils', 'link': '/api/v1/teams/1', 'venue': {'name': 'Prudential Center', 'link': '/api/v1/venues/null', 'city': 'Newark', 'timeZone': {'id': 'America/New_York', 'offset': -5, 'tz': 'EST'}}, 'abbreviation': 'NJD', 'teamName': 'Devils', 'locationName': 'New Jersey', 'firstYearOfPlay': '1982', 'division': {'id': 18, 'name': 'Metropolitan', 'nameShort': 'Metro', 'link': '/api/v1/divisions/18', 'abbreviation': 'M'}, 'conference': {'id': 6, 'name': 'Eastern', 'link': '/api/v1/conferences/6'}, 'franchise': {'franchiseId': 23, 'teamName': 'Devils', 'link': '/api/v1/franchises/23'}, 'shortName': 'New Jersey', 'officialSiteUrl': 'http://www.newjerseydevils.com/', 'franchiseId': 23, 'active': True}, {'id': 2, 'name': 'New York Islanders', 'link': '/api/v1/teams/2', 'venue': {'name': 'UBS Arena', 'link': '/api/v1/venues/null', 'city': 'Elmont', 'timeZone': {'id': 'America/New_York', 'offset': -5, 'tz': 'EST'}}, 'abbreviation': 'NYI', 'teamName': 'Islanders', 'locationName': 'New York', 'firstYearOfPlay': '1972', 'division': {'id': 18, 'name': 'Metropolitan', 'nameShort': 'Metro', 'link': '/api/v1/divisions/18', 'abbreviation': 'M'}, 'conference': {'id': 6, 'name': 'Eastern', 'link': '/api/v1/conferences/6'}, 'franchise': {'franchiseId': 22, 'teamName': 'Islanders', 'link': '/api/v1/franchises/22'}, 'shortName': 'NY Islanders', 'officialSiteUrl': 'http://www.newyorkislanders.com/', 'franchiseId': 22, 'active': True}, {'id': 3, 'name': 'New York Rangers', 'link': '/api/v1/teams/3', 'venue': {'id': 5054, 'name': 'Madison Square Garden', 'link': '/api/v1/venues/5054', 'city': 'New York', 'timeZone': {'id': 'America/New_York', 'offset': -5, 'tz': 'EST'}}, 'abbreviation': 'NYR', 'teamName': 'Rangers', 'locationName': 'New York', 'firstYearOfPlay': '1926', 'division': {'id': 18, 'name': 'Metropolitan', 'nameShort': 'Metro', 'link': '/api/v1/divisions/18', 'abbreviation': 'M'}, 'conference': {'id': 6, 'name': 'Eastern', 'link': '/api/v1/conferences/6'}, 'franchise': {'franchiseId': 10, 'teamName': 'Rangers', 'link': '/api/v1/franchises/10'}, 'shortName': 'NY Rangers', 'officialSiteUrl': 'http://www.newyorkrangers.com/', 'franchiseId': 10, 'active': True}, {'id': 4, 'name': 'Philadelphia Flyers', 'link': '/api/v1/teams/4', 'venue': {'id': 5096, 'name': 'Wells Fargo Center', 'link': '/api/v1/venues/5096', 'city': 'Philadelphia', 'timeZone': {'id': 'America/New_York', 'offset': -5, 'tz': 'EST'}}, 'abbreviation': 'PHI', 'teamName': 'Flyers', 'locationName': 'Philadelphia', 'firstYearOfPlay': '1967', 'division': {'id': 18, 'name': 'Metropolitan', 'nameShort': 'Metro', 'link': '/api/v1/divisions/18', 'abbreviation': 'M'}, 'conference': {'id': 6, 'name': 'Eastern', 'link': '/api/v1/conferences/6'}, 'franchise': {'franchiseId': 16, 'teamName': 'Flyers', 'link': '/api/v1/franchises/16'}, 'shortName': 'Philadelphia', 'officialSiteUrl': 'http://www.philadelphiaflyers.com/', 'franchiseId': 16, 'active': True}, {'id': 5, 'name': 'Pittsburgh Penguins', 'link': '/api/v1/teams/5', 'venue': {'id': 5034, 'name': 'PPG Paints Arena', 'link': '/api/v1/venues/5034', 'city': 'Pittsburgh', 'timeZone': {'id': 'America/New_York', 'offset': -5, 'tz': 'EST'}}, 'abbreviation': 'PIT', 'teamName': 'Penguins', 'locationName': 'Pittsburgh', 'firstYearOfPlay': '1967', 'division': {'id': 18, 'name': 'Metropolitan', 'nameShort': 'Metro', 'link': '/api/v1/divisions/18', 'abbreviation': 'M'}, 'conference': {'id': 6, 'name': 'Eastern', 'link': '/api/v1/conferences/6'}, 'franchise': {'franchiseId': 17, 'teamName': 'Penguins', 'link': '/api/v1/franchises/17'}, 'shortName': 'Pittsburgh', 'officialSiteUrl': 'http://pittsburghpenguins.com/', 'franchiseId': 17, 'active': True}, {'id': 6, 'name': 'Boston Bruins', 'link': '/api/v1/teams/6', 'venue': {'id': 5085, 'name': 'TD Garden', 'link': '/api/v1/venues/5085', 'city': 'Boston', 'timeZone': {'id': 'America/New_York', 'offset': -5, 'tz': 'EST'}}, 'abbreviation': 'BOS', 'teamName': 'Bruins', 'locationName': 'Boston', 'firstYearOfPlay': '1924', 'division': {'id': 17, 'name': 'Atlantic', 'nameShort': 'ATL', 'link': '/api/v1/divisions/17', 'abbreviation': 'A'}, 'conference': {'id': 6, 'name': 'Eastern', 'link': '/api/v1/conferences/6'}, 'franchise': {'franchiseId': 6, 'teamName': 'Bruins', 'link': '/api/v1/franchises/6'}, 'shortName': 'Boston', 'officialSiteUrl': 'http://www.bostonbruins.com/', 'franchiseId': 6, 'active': True}, {'id': 7, 'name': 'Buffalo Sabres', 'link': '/api/v1/teams/7', 'venue': {'id': 5039, 'name': 'KeyBank Center', 'link': '/api/v1/venues/5039', 'city': 'Buffalo', 'timeZone': {'id': 'America/New_York', 'offset': -5, 'tz': 'EST'}}, 'abbreviation': 'BUF', 'teamName': 'Sabres', 'locationName': 'Buffalo', 'firstYearOfPlay': '1970', 'division': {'id': 17, 'name': 'Atlantic', 'nameShort': 'ATL', 'link': '/api/v1/divisions/17', 'abbreviation': 'A'}, 'conference': {'id': 6, 'name': 'Eastern', 'link': '/api/v1/conferences/6'}, 'franchise': {'franchiseId': 19, 'teamName': 'Sabres', 'link': '/api/v1/franchises/19'}, 'shortName': 'Buffalo', 'officialSiteUrl': 'http://www.sabres.com/', 'franchiseId': 19, 'active': True}, {'id': 8, 'name': 'Montréal Canadiens', 'link': '/api/v1/teams/8', 'venue': {'id': 5028, 'name': 'Bell Centre', 'link': '/api/v1/venues/5028', 'city': 'Montréal', 'timeZone': {'id': 'America/Montreal', 'offset': -5, 'tz': 'EST'}}, 'abbreviation': 'MTL', 'teamName': 'Canadiens', 'locationName': 'Montréal', 'firstYearOfPlay': '1909', 'division': {'id': 17, 'name': 'Atlantic', 'nameShort': 'ATL', 'link': '/api/v1/divisions/17', 'abbreviation': 'A'}, 'conference': {'id': 6, 'name': 'Eastern', 'link': '/api/v1/conferences/6'}, 'franchise': {'franchiseId': 1, 'teamName': 'Canadiens', 'link': '/api/v1/franchises/1'}, 'shortName': 'Montréal', 'officialSiteUrl': 'http://www.canadiens.com/', 'franchiseId': 1, 'active': True}, {'id': 9, 'name': 'Ottawa Senators', 'link': '/api/v1/teams/9', 'venue': {'id': 5031, 'name': 'Canadian Tire Centre', 'link': '/api/v1/venues/5031', 'city': 'Ottawa', 'timeZone': {'id': 'America/New_York', 'offset': -5, 'tz': 'EST'}}, 'abbreviation': 'OTT', 'teamName': 'Senators', 'locationName': 'Ottawa', 'firstYearOfPlay': '1990', 'division': {'id': 17, 'name': 'Atlantic', 'nameShort': 'ATL', 'link': '/api/v1/divisions/17', 'abbreviation': 'A'}, 'conference': {'id': 6, 'name': 'Eastern', 'link': '/api/v1/conferences/6'}, 'franchise': {'franchiseId': 30, 'teamName': 'Senators', 'link': '/api/v1/franchises/30'}, 'shortName': 'Ottawa', 'officialSiteUrl': 'http://www.ottawasenators.com/', 'franchiseId': 30, 'active': True}, {'id': 10, 'name': 'Toronto Maple Leafs', 'link': '/api/v1/teams/10', 'venue': {'name': 'Scotiabank Arena', 'link': '/api/v1/venues/null', 'city': 'Toronto', 'timeZone': {'id': 'America/Toronto', 'offset': -5, 'tz': 'EST'}}, 'abbreviation': 'TOR', 'teamName': 'Maple Leafs', 'locationName': 'Toronto', 'firstYearOfPlay': '1917', 'division': {'id': 17, 'name': 'Atlantic', 'nameShort': 'ATL', 'link': '/api/v1/divisions/17', 'abbreviation': 'A'}, 'conference': {'id': 6, 'name': 'Eastern', 'link': '/api/v1/conferences/6'}, 'franchise': {'franchiseId': 5, 'teamName': 'Maple Leafs', 'link': '/api/v1/franchises/5'}, 'shortName': 'Toronto', 'officialSiteUrl': 'http://www.mapleleafs.com/', 'franchiseId': 5, 'active': True}, {'id': 12, 'name': 'Carolina Hurricanes', 'link': '/api/v1/teams/12', 'venue': {'id': 5066, 'name': 'PNC Arena', 'link': '/api/v1/venues/5066', 'city': 'Raleigh', 'timeZone': {'id': 'America/New_York', 'offset': -5, 'tz': 'EST'}}, 'abbreviation': 'CAR', 'teamName': 'Hurricanes', 'locationName': 'Carolina', 'firstYearOfPlay': '1979', 'division': {'id': 18, 'name': 'Metropolitan', 'nameShort': 'Metro', 'link': '/api/v1/divisions/18', 'abbreviation': 'M'}, 'conference': {'id': 6, 'name': 'Eastern', 'link': '/api/v1/conferences/6'}, 'franchise': {'franchiseId': 26, 'teamName': 'Hurricanes', 'link': '/api/v1/franchises/26'}, 'shortName': 'Carolina', 'officialSiteUrl': 'http://www.carolinahurricanes.com/', 'franchiseId': 26, 'active': True}, {'id': 13, 'name': 'Florida Panthers', 'link': '/api/v1/teams/13', 'venue': {'id': 5027, 'name': 'FLA Live Arena', 'link': '/api/v1/venues/5027', 'city': 'Sunrise', 'timeZone': {'id': 'America/New_York', 'offset': -5, 'tz': 'EST'}}, 'abbreviation': 'FLA', 'teamName': 'Panthers', 'locationName': 'Florida', 'firstYearOfPlay': '1993', 'division': {'id': 17, 'name': 'Atlantic', 'nameShort': 'ATL', 'link': '/api/v1/divisions/17', 'abbreviation': 'A'}, 'conference': {'id': 6, 'name': 'Eastern', 'link': '/api/v1/conferences/6'}, 'franchise': {'franchiseId': 33, 'teamName': 'Panthers', 'link': '/api/v1/franchises/33'}, 'shortName': 'Florida', 'officialSiteUrl': 'http://www.floridapanthers.com/', 'franchiseId': 33, 'active': True}, {'id': 14, 'name': 'Tampa Bay Lightning', 'link': '/api/v1/teams/14', 'venue': {'name': 'AMALIE Arena', 'link': '/api/v1/venues/null', 'city': 'Tampa', 'timeZone': {'id': 'America/New_York', 'offset': -5, 'tz': 'EST'}}, 'abbreviation': 'TBL', 'teamName': 'Lightning', 'locationName': 'Tampa Bay', 'firstYearOfPlay': '1991', 'division': {'id': 17, 'name': 'Atlantic', 'nameShort': 'ATL', 'link': '/api/v1/divisions/17', 'abbreviation': 'A'}, 'conference': {'id': 6, 'name': 'Eastern', 'link': '/api/v1/conferences/6'}, 'franchise': {'franchiseId': 31, 'teamName': 'Lightning', 'link': '/api/v1/franchises/31'}, 'shortName': 'Tampa Bay', 'officialSiteUrl': 'http://www.tampabaylightning.com/', 'franchiseId': 31, 'active': True}, {'id': 15, 'name': 'Washington Capitals', 'link': '/api/v1/teams/15', 'venue': {'id': 5094, 'name': 'Capital One Arena', 'link': '/api/v1/venues/5094', 'city': 'Washington', 'timeZone': {'id': 'America/New_York', 'offset': -5, 'tz': 'EST'}}, 'abbreviation': 'WSH', 'teamName': 'Capitals', 'locationName': 'Washington', 'firstYearOfPlay': '1974', 'division': {'id': 18, 'name': 'Metropolitan', 'nameShort': 'Metro', 'link': '/api/v1/divisions/18', 'abbreviation': 'M'}, 'conference': {'id': 6, 'name': 'Eastern', 'link': '/api/v1/conferences/6'}, 'franchise': {'franchiseId': 24, 'teamName': 'Capitals', 'link': '/api/v1/franchises/24'}, 'shortName': 'Washington', 'officialSiteUrl': 'http://www.washingtoncapitals.com/', 'franchiseId': 24, 'active': True}, {'id': 16, 'name': 'Chicago Blackhawks', 'link': '/api/v1/teams/16', 'venue': {'id': 5092, 'name': 'United Center', 'link': '/api/v1/venues/5092', 'city': 'Chicago', 'timeZone': {'id': 'America/Chicago', 'offset': -6, 'tz': 'CST'}}, 'abbreviation': 'CHI', 'teamName': 'Blackhawks', 'locationName': 'Chicago', 'firstYearOfPlay': '1926', 'division': {'id': 16, 'name': 'Central', 'nameShort': 'CEN', 'link': '/api/v1/divisions/16', 'abbreviation': 'C'}, 'conference': {'id': 5, 'name': 'Western', 'link': '/api/v1/conferences/5'}, 'franchise': {'franchiseId': 11, 'teamName': 'Blackhawks', 'link': '/api/v1/franchises/11'}, 'shortName': 'Chicago', 'officialSiteUrl': 'http://www.chicagoblackhawks.com/', 'franchiseId': 11, 'active': True}, {'id': 17, 'name': 'Detroit Red Wings', 'link': '/api/v1/teams/17', 'venue': {'id': 5145, 'name': 'Little Caesars Arena', 'link': '/api/v1/venues/5145', 'city': 'Detroit', 'timeZone': {'id': 'America/Detroit', 'offset': -5, 'tz': 'EST'}}, 'abbreviation': 'DET', 'teamName': 'Red Wings', 'locationName': 'Detroit', 'firstYearOfPlay': '1926', 'division': {'id': 17, 'name': 'Atlantic', 'nameShort': 'ATL', 'link': '/api/v1/divisions/17', 'abbreviation': 'A'}, 'conference': {'id': 6, 'name': 'Eastern', 'link': '/api/v1/conferences/6'}, 'franchise': {'franchiseId': 12, 'teamName': 'Red Wings', 'link': '/api/v1/franchises/12'}, 'shortName': 'Detroit', 'officialSiteUrl': 'http://www.detroitredwings.com/', 'franchiseId': 12, 'active': True}, {'id': 18, 'name': 'Nashville Predators', 'link': '/api/v1/teams/18', 'venue': {'id': 5030, 'name': 'Bridgestone Arena', 'link': '/api/v1/venues/5030', 'city': 'Nashville', 'timeZone': {'id': 'America/Chicago', 'offset': -6, 'tz': 'CST'}}, 'abbreviation': 'NSH', 'teamName': 'Predators', 'locationName': 'Nashville', 'firstYearOfPlay': '1997', 'division': {'id': 16, 'name': 'Central', 'nameShort': 'CEN', 'link': '/api/v1/divisions/16', 'abbreviation': 'C'}, 'conference': {'id': 5, 'name': 'Western', 'link': '/api/v1/conferences/5'}, 'franchise': {'franchiseId': 34, 'teamName': 'Predators', 'link': '/api/v1/franchises/34'}, 'shortName': 'Nashville', 'officialSiteUrl': 'http://www.nashvillepredators.com/', 'franchiseId': 34, 'active': True}, {'id': 19, 'name': 'St. Louis Blues', 'link': '/api/v1/teams/19', 'venue': {'id': 5076, 'name': 'Enterprise Center', 'link': '/api/v1/venues/5076', 'city': 'St. Louis', 'timeZone': {'id': 'America/Chicago', 'offset': -6, 'tz': 'CST'}}, 'abbreviation': 'STL', 'teamName': 'Blues', 'locationName': 'St. Louis', 'firstYearOfPlay': '1967', 'division': {'id': 16, 'name': 'Central', 'nameShort': 'CEN', 'link': '/api/v1/divisions/16', 'abbreviation': 'C'}, 'conference': {'id': 5, 'name': 'Western', 'link': '/api/v1/conferences/5'}, 'franchise': {'franchiseId': 18, 'teamName': 'Blues', 'link': '/api/v1/franchises/18'}, 'shortName': 'St Louis', 'officialSiteUrl': 'http://www.stlouisblues.com/', 'franchiseId': 18, 'active': True}, {'id': 20, 'name': 'Calgary Flames', 'link': '/api/v1/teams/20', 'venue': {'id': 5075, 'name': 'Scotiabank Saddledome', 'link': '/api/v1/venues/5075', 'city': 'Calgary', 'timeZone': {'id': 'America/Denver', 'offset': -7, 'tz': 'MST'}}, 'abbreviation': 'CGY', 'teamName': 'Flames', 'locationName': 'Calgary', 'firstYearOfPlay': '1980', 'division': {'id': 15, 'name': 'Pacific', 'nameShort': 'PAC', 'link': '/api/v1/divisions/15', 'abbreviation': 'P'}, 'conference': {'id': 5, 'name': 'Western', 'link': '/api/v1/conferences/5'}, 'franchise': {'franchiseId': 21, 'teamName': 'Flames', 'link': '/api/v1/franchises/21'}, 'shortName': 'Calgary', 'officialSiteUrl': 'http://www.calgaryflames.com/', 'franchiseId': 21, 'active': True}, {'id': 21, 'name': 'Colorado Avalanche', 'link': '/api/v1/teams/21', 'venue': {'id': 5064, 'name': 'Ball Arena', 'link': '/api/v1/venues/5064', 'city': 'Denver', 'timeZone': {'id': 'America/Denver', 'offset': -7, 'tz': 'MST'}}, 'abbreviation': 'COL', 'teamName': 'Avalanche', 'locationName': 'Colorado', 'firstYearOfPlay': '1979', 'division': {'id': 16, 'name': 'Central', 'nameShort': 'CEN', 'link': '/api/v1/divisions/16', 'abbreviation': 'C'}, 'conference': {'id': 5, 'name': 'Western', 'link': '/api/v1/conferences/5'}, 'franchise': {'franchiseId': 27, 'teamName': 'Avalanche', 'link': '/api/v1/franchises/27'}, 'shortName': 'Colorado', 'officialSiteUrl': 'http://www.coloradoavalanche.com/', 'franchiseId': 27, 'active': True}, {'id': 22, 'name': 'Edmonton Oilers', 'link': '/api/v1/teams/22', 'venue': {'id': 5100, 'name': 'Rogers Place', 'link': '/api/v1/venues/5100', 'city': 'Edmonton', 'timeZone': {'id': 'America/Edmonton', 'offset': -7, 'tz': 'MST'}}, 'abbreviation': 'EDM', 'teamName': 'Oilers', 'locationName': 'Edmonton', 'firstYearOfPlay': '1979', 'division': {'id': 15, 'name': 'Pacific', 'nameShort': 'PAC', 'link': '/api/v1/divisions/15', 'abbreviation': 'P'}, 'conference': {'id': 5, 'name': 'Western', 'link': '/api/v1/conferences/5'}, 'franchise': {'franchiseId': 25, 'teamName': 'Oilers', 'link': '/api/v1/franchises/25'}, 'shortName': 'Edmonton', 'officialSiteUrl': 'http://www.edmontonoilers.com/', 'franchiseId': 25, 'active': True}, {'id': 23, 'name': 'Vancouver Canucks', 'link': '/api/v1/teams/23', 'venue': {'id': 5073, 'name': 'Rogers Arena', 'link': '/api/v1/venues/5073', 'city': 'Vancouver', 'timeZone': {'id': 'America/Vancouver', 'offset': -8, 'tz': 'PST'}}, 'abbreviation': 'VAN', 'teamName': 'Canucks', 'locationName': 'Vancouver', 'firstYearOfPlay': '1970', 'division': {'id': 15, 'name': 'Pacific', 'nameShort': 'PAC', 'link': '/api/v1/divisions/15', 'abbreviation': 'P'}, 'conference': {'id': 5, 'name': 'Western', 'link': '/api/v1/conferences/5'}, 'franchise': {'franchiseId': 20, 'teamName': 'Canucks', 'link': '/api/v1/franchises/20'}, 'shortName': 'Vancouver', 'officialSiteUrl': 'http://www.canucks.com/', 'franchiseId': 20, 'active': True}, {'id': 24, 'name': 'Anaheim Ducks', 'link': '/api/v1/teams/24', 'venue': {'id': 5046, 'name': 'Honda Center', 'link': '/api/v1/venues/5046', 'city': 'Anaheim', 'timeZone': {'id': 'America/Los_Angeles', 'offset': -8, 'tz': 'PST'}}, 'abbreviation': 'ANA', 'teamName': 'Ducks', 'locationName': 'Anaheim', 'firstYearOfPlay': '1993', 'division': {'id': 15, 'name': 'Pacific', 'nameShort': 'PAC', 'link': '/api/v1/divisions/15', 'abbreviation': 'P'}, 'conference': {'id': 5, 'name': 'Western', 'link': '/api/v1/conferences/5'}, 'franchise': {'franchiseId': 32, 'teamName': 'Ducks', 'link': '/api/v1/franchises/32'}, 'shortName': 'Anaheim', 'officialSiteUrl': 'http://www.anaheimducks.com/', 'franchiseId': 32, 'active': True}, {'id': 25, 'name': 'Dallas Stars', 'link': '/api/v1/teams/25', 'venue': {'id': 5019, 'name': 'American Airlines Center', 'link': '/api/v1/venues/5019', 'city': 'Dallas', 'timeZone': {'id': 'America/Chicago', 'offset': -6, 'tz': 'CST'}}, 'abbreviation': 'DAL', 'teamName': 'Stars', 'locationName': 'Dallas', 'firstYearOfPlay': '1967', 'division': {'id': 16, 'name': 'Central', 'nameShort': 'CEN', 'link': '/api/v1/divisions/16', 'abbreviation': 'C'}, 'conference': {'id': 5, 'name': 'Western', 'link': '/api/v1/conferences/5'}, 'franchise': {'franchiseId': 15, 'teamName': 'Stars', 'link': '/api/v1/franchises/15'}, 'shortName': 'Dallas', 'officialSiteUrl': 'http://www.dallasstars.com/', 'franchiseId': 15, 'active': True}, {'id': 26, 'name': 'Los Angeles Kings', 'link': '/api/v1/teams/26', 'venue': {'name': 'Crypto.com Arena', 'link': '/api/v1/venues/null', 'city': 'Los Angeles', 'timeZone': {'id': 'America/Los_Angeles', 'offset': -8, 'tz': 'PST'}}, 'abbreviation': 'LAK', 'teamName': 'Kings', 'locationName': 'Los Angeles', 'firstYearOfPlay': '1967', 'division': {'id': 15, 'name': 'Pacific', 'nameShort': 'PAC', 'link': '/api/v1/divisions/15', 'abbreviation': 'P'}, 'conference': {'id': 5, 'name': 'Western', 'link': '/api/v1/conferences/5'}, 'franchise': {'franchiseId': 14, 'teamName': 'Kings', 'link': '/api/v1/franchises/14'}, 'shortName': 'Los Angeles', 'officialSiteUrl': 'http://www.lakings.com/', 'franchiseId': 14, 'active': True}, {'id': 28, 'name': 'San Jose Sharks', 'link': '/api/v1/teams/28', 'venue': {'name': 'SAP Center at San Jose', 'link': '/api/v1/venues/null', 'city': 'San Jose', 'timeZone': {'id': 'America/Los_Angeles', 'offset': -8, 'tz': 'PST'}}, 'abbreviation': 'SJS', 'teamName': 'Sharks', 'locationName': 'San Jose', 'firstYearOfPlay': '1990', 'division': {'id': 15, 'name': 'Pacific', 'nameShort': 'PAC', 'link': '/api/v1/divisions/15', 'abbreviation': 'P'}, 'conference': {'id': 5, 'name': 'Western', 'link': '/api/v1/conferences/5'}, 'franchise': {'franchiseId': 29, 'teamName': 'Sharks', 'link': '/api/v1/franchises/29'}, 'shortName': 'San Jose', 'officialSiteUrl': 'http://www.sjsharks.com/', 'franchiseId': 29, 'active': True}, {'id': 29, 'name': 'Columbus Blue Jackets', 'link': '/api/v1/teams/29', 'venue': {'id': 5059, 'name': 'Nationwide Arena', 'link': '/api/v1/venues/5059', 'city': 'Columbus', 'timeZone': {'id': 'America/New_York', 'offset': -5, 'tz': 'EST'}}, 'abbreviation': 'CBJ', 'teamName': 'Blue Jackets', 'locationName': 'Columbus', 'firstYearOfPlay': '1997', 'division': {'id': 18, 'name': 'Metropolitan', 'nameShort': 'Metro', 'link': '/api/v1/divisions/18', 'abbreviation': 'M'}, 'conference': {'id': 6, 'name': 'Eastern', 'link': '/api/v1/conferences/6'}, 'franchise': {'franchiseId': 36, 'teamName': 'Blue Jackets', 'link': '/api/v1/franchises/36'}, 'shortName': 'Columbus', 'officialSiteUrl': 'http://www.bluejackets.com/', 'franchiseId': 36, 'active': True}, {'id': 30, 'name': 'Minnesota Wild', 'link': '/api/v1/teams/30', 'venue': {'id': 5098, 'name': 'Xcel Energy Center', 'link': '/api/v1/venues/5098', 'city': 'St. Paul', 'timeZone': {'id': 'America/Chicago', 'offset': -6, 'tz': 'CST'}}, 'abbreviation': 'MIN', 'teamName': 'Wild', 'locationName': 'Minnesota', 'firstYearOfPlay': '1997', 'division': {'id': 16, 'name': 'Central', 'nameShort': 'CEN', 'link': '/api/v1/divisions/16', 'abbreviation': 'C'}, 'conference': {'id': 5, 'name': 'Western', 'link': '/api/v1/conferences/5'}, 'franchise': {'franchiseId': 37, 'teamName': 'Wild', 'link': '/api/v1/franchises/37'}, 'shortName': 'Minnesota', 'officialSiteUrl': 'http://www.wild.com/', 'franchiseId': 37, 'active': True}, {'id': 52, 'name': 'Winnipeg Jets', 'link': '/api/v1/teams/52', 'venue': {'id': 5058, 'name': 'Canada Life Centre', 'link': '/api/v1/venues/5058', 'city': 'Winnipeg', 'timeZone': {'id': 'America/Winnipeg', 'offset': -6, 'tz': 'CST'}}, 'abbreviation': 'WPG', 'teamName': 'Jets', 'locationName': 'Winnipeg', 'firstYearOfPlay': '2011', 'division': {'id': 16, 'name': 'Central', 'nameShort': 'CEN', 'link': '/api/v1/divisions/16', 'abbreviation': 'C'}, 'conference': {'id': 5, 'name': 'Western', 'link': '/api/v1/conferences/5'}, 'franchise': {'franchiseId': 35, 'teamName': 'Jets', 'link': '/api/v1/franchises/35'}, 'shortName': 'Winnipeg', 'officialSiteUrl': 'http://winnipegjets.com/', 'franchiseId': 35, 'active': True}, {'id': 53, 'name': 'Arizona Coyotes', 'link': '/api/v1/teams/53', 'venue': {'name': 'Mullett Arena', 'link': '/api/v1/venues/null', 'city': 'Tempe', 'timeZone': {'id': 'America/Phoenix', 'offset': -7, 'tz': 'MST'}}, 'abbreviation': 'ARI', 'teamName': 'Coyotes', 'locationName': 'Arizona', 'firstYearOfPlay': '1979', 'division': {'id': 16, 'name': 'Central', 'nameShort': 'CEN', 'link': '/api/v1/divisions/16', 'abbreviation': 'C'}, 'conference': {'id': 5, 'name': 'Western', 'link': '/api/v1/conferences/5'}, 'franchise': {'franchiseId': 28, 'teamName': 'Coyotes', 'link': '/api/v1/franchises/28'}, 'shortName': 'Arizona', 'officialSiteUrl': 'http://www.arizonacoyotes.com/', 'franchiseId': 28, 'active': True}, {'id': 54, 'name': 'Vegas Golden Knights', 'link': '/api/v1/teams/54', 'venue': {'id': 5178, 'name': 'T-Mobile Arena', 'link': '/api/v1/venues/5178', 'city': 'Las Vegas', 'timeZone': {'id': 'America/Los_Angeles', 'offset': -8, 'tz': 'PST'}}, 'abbreviation': 'VGK', 'teamName': 'Golden Knights', 'locationName': 'Vegas', 'firstYearOfPlay': '2016', 'division': {'id': 15, 'name': 'Pacific', 'nameShort': 'PAC', 'link': '/api/v1/divisions/15', 'abbreviation': 'P'}, 'conference': {'id': 5, 'name': 'Western', 'link': '/api/v1/conferences/5'}, 'franchise': {'franchiseId': 38, 'teamName': 'Golden Knights', 'link': '/api/v1/franchises/38'}, 'shortName': 'Vegas', 'officialSiteUrl': 'http://www.vegasgoldenknights.com/', 'franchiseId': 38, 'active': True}, {'id': 55, 'name': 'Seattle Kraken', 'link': '/api/v1/teams/55', 'venue': {'name': 'Climate Pledge Arena', 'link': '/api/v1/venues/null', 'city': 'Seattle', 'timeZone': {'id': 'America/Los_Angeles', 'offset': -8, 'tz': 'PST'}}, 'abbreviation': 'SEA', 'teamName': 'Kraken', 'locationName': 'Seattle', 'firstYearOfPlay': '2021', 'division': {'id': 15, 'name': 'Pacific', 'nameShort': 'PAC', 'link': '/api/v1/divisions/15', 'abbreviation': 'P'}, 'conference': {'id': 5, 'name': 'Western', 'link': '/api/v1/conferences/5'}, 'franchise': {'franchiseId': 39, 'teamName': 'Kraken', 'link': '/api/v1/franchises/39'}, 'shortName': 'Seattle', 'officialSiteUrl': 'https://www.nhl.com/seattle', 'franchiseId': 39, 'active': True}]}\n"
     ]
    }
   ],
   "source": [
    "print(teams_json)"
   ]
  },
  {
   "cell_type": "code",
   "execution_count": 19,
   "id": "adce6a5b",
   "metadata": {},
   "outputs": [
    {
     "data": {
      "text/plain": [
       "list"
      ]
     },
     "execution_count": 19,
     "metadata": {},
     "output_type": "execute_result"
    }
   ],
   "source": [
    "type(teams_json['teams']) # check type of teams key"
   ]
  },
  {
   "cell_type": "code",
   "execution_count": 20,
   "id": "566a3cc9",
   "metadata": {
    "scrolled": true
   },
   "outputs": [
    {
     "data": {
      "text/plain": [
       "{'id': 1,\n",
       " 'name': 'New Jersey Devils',\n",
       " 'link': '/api/v1/teams/1',\n",
       " 'venue': {'name': 'Prudential Center',\n",
       "  'link': '/api/v1/venues/null',\n",
       "  'city': 'Newark',\n",
       "  'timeZone': {'id': 'America/New_York', 'offset': -5, 'tz': 'EST'}},\n",
       " 'abbreviation': 'NJD',\n",
       " 'teamName': 'Devils',\n",
       " 'locationName': 'New Jersey',\n",
       " 'firstYearOfPlay': '1982',\n",
       " 'division': {'id': 18,\n",
       "  'name': 'Metropolitan',\n",
       "  'nameShort': 'Metro',\n",
       "  'link': '/api/v1/divisions/18',\n",
       "  'abbreviation': 'M'},\n",
       " 'conference': {'id': 6, 'name': 'Eastern', 'link': '/api/v1/conferences/6'},\n",
       " 'franchise': {'franchiseId': 23,\n",
       "  'teamName': 'Devils',\n",
       "  'link': '/api/v1/franchises/23'},\n",
       " 'shortName': 'New Jersey',\n",
       " 'officialSiteUrl': 'http://www.newjerseydevils.com/',\n",
       " 'franchiseId': 23,\n",
       " 'active': True}"
      ]
     },
     "execution_count": 20,
     "metadata": {},
     "output_type": "execute_result"
    }
   ],
   "source": [
    "teams_json['teams'][0] # viewing attributes associated with \"team\"."
   ]
  },
  {
   "cell_type": "code",
   "execution_count": 21,
   "id": "49910592",
   "metadata": {},
   "outputs": [],
   "source": [
    "# the teams dict contains nested dicts. Applying the below function to flatten the teams dict for use in Pandas df\n",
    "\n",
    "def flatten_team(nested):\n",
    "    flat = {key: value for key, value in nested.items()\n",
    "           if type(value) is not dict}\n",
    "    \n",
    "    flat['venue_name'] = nested['venue']['name']\n",
    "    flat['venue_city'] = nested['venue']['city']\n",
    "    flat['franchise_id'] = nested['franchise']['franchiseId']\n",
    "    flat['division_id'] = nested['division']['id']\n",
    "    flat['conference_id'] = nested['conference']['id']\n",
    "    return flat\n"
   ]
  },
  {
   "cell_type": "code",
   "execution_count": 30,
   "id": "848ee00a",
   "metadata": {},
   "outputs": [],
   "source": [
    "# Passing the flattened teams to a dataframe\n",
    "\n",
    "df_teams = pd.DataFrame([flatten_team(x) for x in teams_json['teams']])"
   ]
  },
  {
   "cell_type": "code",
   "execution_count": 32,
   "id": "6128b231",
   "metadata": {},
   "outputs": [
    {
     "data": {
      "text/html": [
       "<div>\n",
       "<style scoped>\n",
       "    .dataframe tbody tr th:only-of-type {\n",
       "        vertical-align: middle;\n",
       "    }\n",
       "\n",
       "    .dataframe tbody tr th {\n",
       "        vertical-align: top;\n",
       "    }\n",
       "\n",
       "    .dataframe thead th {\n",
       "        text-align: right;\n",
       "    }\n",
       "</style>\n",
       "<table border=\"1\" class=\"dataframe\">\n",
       "  <thead>\n",
       "    <tr style=\"text-align: right;\">\n",
       "      <th></th>\n",
       "      <th>id</th>\n",
       "      <th>name</th>\n",
       "      <th>link</th>\n",
       "      <th>abbreviation</th>\n",
       "      <th>teamName</th>\n",
       "      <th>locationName</th>\n",
       "      <th>firstYearOfPlay</th>\n",
       "      <th>shortName</th>\n",
       "      <th>officialSiteUrl</th>\n",
       "      <th>franchiseId</th>\n",
       "      <th>active</th>\n",
       "      <th>venue_name</th>\n",
       "      <th>venue_city</th>\n",
       "      <th>franchise_id</th>\n",
       "      <th>division_id</th>\n",
       "      <th>conference_id</th>\n",
       "    </tr>\n",
       "  </thead>\n",
       "  <tbody>\n",
       "    <tr>\n",
       "      <th>0</th>\n",
       "      <td>1</td>\n",
       "      <td>New Jersey Devils</td>\n",
       "      <td>/api/v1/teams/1</td>\n",
       "      <td>NJD</td>\n",
       "      <td>Devils</td>\n",
       "      <td>New Jersey</td>\n",
       "      <td>1982</td>\n",
       "      <td>New Jersey</td>\n",
       "      <td>http://www.newjerseydevils.com/</td>\n",
       "      <td>23</td>\n",
       "      <td>True</td>\n",
       "      <td>Prudential Center</td>\n",
       "      <td>Newark</td>\n",
       "      <td>23</td>\n",
       "      <td>18</td>\n",
       "      <td>6</td>\n",
       "    </tr>\n",
       "    <tr>\n",
       "      <th>1</th>\n",
       "      <td>2</td>\n",
       "      <td>New York Islanders</td>\n",
       "      <td>/api/v1/teams/2</td>\n",
       "      <td>NYI</td>\n",
       "      <td>Islanders</td>\n",
       "      <td>New York</td>\n",
       "      <td>1972</td>\n",
       "      <td>NY Islanders</td>\n",
       "      <td>http://www.newyorkislanders.com/</td>\n",
       "      <td>22</td>\n",
       "      <td>True</td>\n",
       "      <td>UBS Arena</td>\n",
       "      <td>Elmont</td>\n",
       "      <td>22</td>\n",
       "      <td>18</td>\n",
       "      <td>6</td>\n",
       "    </tr>\n",
       "    <tr>\n",
       "      <th>2</th>\n",
       "      <td>3</td>\n",
       "      <td>New York Rangers</td>\n",
       "      <td>/api/v1/teams/3</td>\n",
       "      <td>NYR</td>\n",
       "      <td>Rangers</td>\n",
       "      <td>New York</td>\n",
       "      <td>1926</td>\n",
       "      <td>NY Rangers</td>\n",
       "      <td>http://www.newyorkrangers.com/</td>\n",
       "      <td>10</td>\n",
       "      <td>True</td>\n",
       "      <td>Madison Square Garden</td>\n",
       "      <td>New York</td>\n",
       "      <td>10</td>\n",
       "      <td>18</td>\n",
       "      <td>6</td>\n",
       "    </tr>\n",
       "    <tr>\n",
       "      <th>3</th>\n",
       "      <td>4</td>\n",
       "      <td>Philadelphia Flyers</td>\n",
       "      <td>/api/v1/teams/4</td>\n",
       "      <td>PHI</td>\n",
       "      <td>Flyers</td>\n",
       "      <td>Philadelphia</td>\n",
       "      <td>1967</td>\n",
       "      <td>Philadelphia</td>\n",
       "      <td>http://www.philadelphiaflyers.com/</td>\n",
       "      <td>16</td>\n",
       "      <td>True</td>\n",
       "      <td>Wells Fargo Center</td>\n",
       "      <td>Philadelphia</td>\n",
       "      <td>16</td>\n",
       "      <td>18</td>\n",
       "      <td>6</td>\n",
       "    </tr>\n",
       "    <tr>\n",
       "      <th>4</th>\n",
       "      <td>5</td>\n",
       "      <td>Pittsburgh Penguins</td>\n",
       "      <td>/api/v1/teams/5</td>\n",
       "      <td>PIT</td>\n",
       "      <td>Penguins</td>\n",
       "      <td>Pittsburgh</td>\n",
       "      <td>1967</td>\n",
       "      <td>Pittsburgh</td>\n",
       "      <td>http://pittsburghpenguins.com/</td>\n",
       "      <td>17</td>\n",
       "      <td>True</td>\n",
       "      <td>PPG Paints Arena</td>\n",
       "      <td>Pittsburgh</td>\n",
       "      <td>17</td>\n",
       "      <td>18</td>\n",
       "      <td>6</td>\n",
       "    </tr>\n",
       "  </tbody>\n",
       "</table>\n",
       "</div>"
      ],
      "text/plain": [
       "   id                 name             link abbreviation   teamName  \\\n",
       "0   1    New Jersey Devils  /api/v1/teams/1          NJD     Devils   \n",
       "1   2   New York Islanders  /api/v1/teams/2          NYI  Islanders   \n",
       "2   3     New York Rangers  /api/v1/teams/3          NYR    Rangers   \n",
       "3   4  Philadelphia Flyers  /api/v1/teams/4          PHI     Flyers   \n",
       "4   5  Pittsburgh Penguins  /api/v1/teams/5          PIT   Penguins   \n",
       "\n",
       "   locationName firstYearOfPlay     shortName  \\\n",
       "0    New Jersey            1982    New Jersey   \n",
       "1      New York            1972  NY Islanders   \n",
       "2      New York            1926    NY Rangers   \n",
       "3  Philadelphia            1967  Philadelphia   \n",
       "4    Pittsburgh            1967    Pittsburgh   \n",
       "\n",
       "                      officialSiteUrl  franchiseId  active  \\\n",
       "0     http://www.newjerseydevils.com/           23    True   \n",
       "1    http://www.newyorkislanders.com/           22    True   \n",
       "2      http://www.newyorkrangers.com/           10    True   \n",
       "3  http://www.philadelphiaflyers.com/           16    True   \n",
       "4      http://pittsburghpenguins.com/           17    True   \n",
       "\n",
       "              venue_name    venue_city  franchise_id  division_id  \\\n",
       "0      Prudential Center        Newark            23           18   \n",
       "1              UBS Arena        Elmont            22           18   \n",
       "2  Madison Square Garden      New York            10           18   \n",
       "3     Wells Fargo Center  Philadelphia            16           18   \n",
       "4       PPG Paints Arena    Pittsburgh            17           18   \n",
       "\n",
       "   conference_id  \n",
       "0              6  \n",
       "1              6  \n",
       "2              6  \n",
       "3              6  \n",
       "4              6  "
      ]
     },
     "execution_count": 32,
     "metadata": {},
     "output_type": "execute_result"
    }
   ],
   "source": [
    "df_teams.head()"
   ]
  },
  {
   "cell_type": "code",
   "execution_count": null,
   "id": "1fcbd358",
   "metadata": {},
   "outputs": [],
   "source": []
  }
 ],
 "metadata": {
  "kernelspec": {
   "display_name": "Python 3",
   "language": "python",
   "name": "python3"
  },
  "language_info": {
   "codemirror_mode": {
    "name": "ipython",
    "version": 3
   },
   "file_extension": ".py",
   "mimetype": "text/x-python",
   "name": "python",
   "nbconvert_exporter": "python",
   "pygments_lexer": "ipython3",
   "version": "3.8.8"
  }
 },
 "nbformat": 4,
 "nbformat_minor": 5
}
